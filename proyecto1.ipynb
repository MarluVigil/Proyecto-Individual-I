{
 "cells": [
  {
   "cell_type": "markdown",
   "metadata": {},
   "source": [
    "## Extracción de datos"
   ]
  },
  {
   "cell_type": "markdown",
   "metadata": {},
   "source": [
    "*Importación de librerias"
   ]
  },
  {
   "cell_type": "code",
   "execution_count": 236,
   "metadata": {},
   "outputs": [],
   "source": [
    "import pandas as pd\n",
    "import numpy as np\n",
    "import datetime as date\n",
    "from sqlalchemy import create_engine"
   ]
  },
  {
   "cell_type": "markdown",
   "metadata": {},
   "source": [
    "* Creación de Rutas"
   ]
  },
  {
   "cell_type": "code",
   "execution_count": 237,
   "metadata": {},
   "outputs": [],
   "source": [
    "archivoCsv=(r'C:\\Users\\fotot\\OneDrive\\Escritorio\\PI 1\\PI01_DATA_ENGINEERING\\Datasets relevamiento precios\\precios_semana_20200413.csv')\n",
    "archivoJson=(r'C:\\Users\\fotot\\OneDrive\\Escritorio\\PI 1\\PI01_DATA_ENGINEERING\\Datasets relevamiento precios\\precios_semana_20200503.json')\n",
    "archivoXlsx=(r'C:\\Users\\fotot\\OneDrive\\Escritorio\\PI 1\\PI01_DATA_ENGINEERING\\Datasets relevamiento precios\\precios_semanas_20200419_20200426.Xlsx')\n",
    "archivoParquet=(r'C:\\Users\\fotot\\OneDrive\\Escritorio\\PI 1\\PI01_DATA_ENGINEERING\\Datasets relevamiento precios\\producto.parquet')\n",
    "archivoSucursalCsv=(r'C:\\Users\\fotot\\OneDrive\\Escritorio\\PI 1\\PI01_DATA_ENGINEERING\\Datasets relevamiento precios\\sucursal.csv')\n",
    "archivoTxt=(r'C:\\Users\\fotot\\OneDrive\\Escritorio\\PI 1\\PI01_DATA_ENGINEERING\\Datasets relevamiento precios\\precios_semana_20200518.txt')"
   ]
  },
  {
   "cell_type": "markdown",
   "metadata": {},
   "source": [
    "* Ingesta de Archivos en distintos formatos"
   ]
  },
  {
   "cell_type": "code",
   "execution_count": 276,
   "metadata": {},
   "outputs": [],
   "source": [
    "df_a=pd.read_csv(archivoCsv, sep= \",\", encoding=\"UTF-16\")\n",
    "df_b=pd.read_json(archivoJson)\n",
    "df_c=pd.read_excel(archivoXlsx, sheet_name=None)\n",
    "df_d=pd.read_parquet(archivoParquet)\n",
    "df_e=pd.read_csv(archivoSucursalCsv)\n",
    "df_f=pd.read_table(archivoTxt, sep='|')"
   ]
  },
  {
   "cell_type": "markdown",
   "metadata": {},
   "source": [
    "* Unión de las 2 paginas de archivo Excel"
   ]
  },
  {
   "cell_type": "code",
   "execution_count": 239,
   "metadata": {},
   "outputs": [],
   "source": [
    "ArchivExc=pd.concat(df_c, ignore_index=True)"
   ]
  },
  {
   "cell_type": "markdown",
   "metadata": {},
   "source": [
    "# Limpieza de Datos "
   ]
  },
  {
   "cell_type": "markdown",
   "metadata": {},
   "source": [
    "## Precios"
   ]
  },
  {
   "cell_type": "markdown",
   "metadata": {},
   "source": [
    "*df1 CSV"
   ]
  },
  {
   "cell_type": "code",
   "execution_count": 240,
   "metadata": {},
   "outputs": [
    {
     "data": {
      "text/html": [
       "<div>\n",
       "<style scoped>\n",
       "    .dataframe tbody tr th:only-of-type {\n",
       "        vertical-align: middle;\n",
       "    }\n",
       "\n",
       "    .dataframe tbody tr th {\n",
       "        vertical-align: top;\n",
       "    }\n",
       "\n",
       "    .dataframe thead th {\n",
       "        text-align: right;\n",
       "    }\n",
       "</style>\n",
       "<table border=\"1\" class=\"dataframe\">\n",
       "  <thead>\n",
       "    <tr style=\"text-align: right;\">\n",
       "      <th></th>\n",
       "      <th>precio</th>\n",
       "      <th>producto_id</th>\n",
       "      <th>sucursal_id</th>\n",
       "    </tr>\n",
       "  </thead>\n",
       "  <tbody>\n",
       "    <tr>\n",
       "      <th>27</th>\n",
       "      <td>289.99</td>\n",
       "      <td>0000000216616</td>\n",
       "      <td>9-1-686</td>\n",
       "    </tr>\n",
       "    <tr>\n",
       "      <th>28</th>\n",
       "      <td>249.00</td>\n",
       "      <td>0000000221184</td>\n",
       "      <td>9-1-690</td>\n",
       "    </tr>\n",
       "    <tr>\n",
       "      <th>29</th>\n",
       "      <td>259.00</td>\n",
       "      <td>0000000221184</td>\n",
       "      <td>9-2-583</td>\n",
       "    </tr>\n",
       "    <tr>\n",
       "      <th>30</th>\n",
       "      <td>439.00</td>\n",
       "      <td>0000000221184</td>\n",
       "      <td>9-2-953</td>\n",
       "    </tr>\n",
       "    <tr>\n",
       "      <th>31</th>\n",
       "      <td>729.00</td>\n",
       "      <td>0000000230407</td>\n",
       "      <td>9-1-868</td>\n",
       "    </tr>\n",
       "    <tr>\n",
       "      <th>32</th>\n",
       "      <td>729.00</td>\n",
       "      <td>0000000230407</td>\n",
       "      <td>9-3-5222</td>\n",
       "    </tr>\n",
       "    <tr>\n",
       "      <th>33</th>\n",
       "      <td>68.90</td>\n",
       "      <td>0000000231688</td>\n",
       "      <td>9-1-690</td>\n",
       "    </tr>\n",
       "    <tr>\n",
       "      <th>34</th>\n",
       "      <td>69.90</td>\n",
       "      <td>0000000231688</td>\n",
       "      <td>9-2-583</td>\n",
       "    </tr>\n",
       "    <tr>\n",
       "      <th>35</th>\n",
       "      <td>110.00</td>\n",
       "      <td>0000000231688</td>\n",
       "      <td>9-2-953</td>\n",
       "    </tr>\n",
       "    <tr>\n",
       "      <th>36</th>\n",
       "      <td>859.00</td>\n",
       "      <td>0000000274357</td>\n",
       "      <td>9-1-868</td>\n",
       "    </tr>\n",
       "    <tr>\n",
       "      <th>37</th>\n",
       "      <td>399.99</td>\n",
       "      <td>0000000279680</td>\n",
       "      <td>9-1-122</td>\n",
       "    </tr>\n",
       "    <tr>\n",
       "      <th>38</th>\n",
       "      <td>204.99</td>\n",
       "      <td>0000000279703</td>\n",
       "      <td>9-1-122</td>\n",
       "    </tr>\n",
       "    <tr>\n",
       "      <th>39</th>\n",
       "      <td>239.00</td>\n",
       "      <td>0000000279710</td>\n",
       "      <td>9-1-122</td>\n",
       "    </tr>\n",
       "    <tr>\n",
       "      <th>246393</th>\n",
       "      <td>NaN</td>\n",
       "      <td>NaN</td>\n",
       "      <td>NaN</td>\n",
       "    </tr>\n",
       "    <tr>\n",
       "      <th>246582</th>\n",
       "      <td>65.90</td>\n",
       "      <td>7791290780170</td>\n",
       "      <td>50-1-2</td>\n",
       "    </tr>\n",
       "    <tr>\n",
       "      <th>246583</th>\n",
       "      <td>65.85</td>\n",
       "      <td>7791290780170</td>\n",
       "      <td>6-1-9</td>\n",
       "    </tr>\n",
       "    <tr>\n",
       "      <th>246584</th>\n",
       "      <td>65.85</td>\n",
       "      <td>7791290780170</td>\n",
       "      <td>6-2-21</td>\n",
       "    </tr>\n",
       "    <tr>\n",
       "      <th>246748</th>\n",
       "      <td>NaN</td>\n",
       "      <td>NaN</td>\n",
       "      <td>NaN</td>\n",
       "    </tr>\n",
       "    <tr>\n",
       "      <th>246794</th>\n",
       "      <td>65.90</td>\n",
       "      <td>7791290780170</td>\n",
       "      <td>50-1-2</td>\n",
       "    </tr>\n",
       "    <tr>\n",
       "      <th>246795</th>\n",
       "      <td>65.85</td>\n",
       "      <td>7791290780170</td>\n",
       "      <td>6-1-9</td>\n",
       "    </tr>\n",
       "    <tr>\n",
       "      <th>246796</th>\n",
       "      <td>65.85</td>\n",
       "      <td>7791290780170</td>\n",
       "      <td>6-2-21</td>\n",
       "    </tr>\n",
       "    <tr>\n",
       "      <th>246822</th>\n",
       "      <td>65.90</td>\n",
       "      <td>7791290780170</td>\n",
       "      <td>50-1-2</td>\n",
       "    </tr>\n",
       "    <tr>\n",
       "      <th>246823</th>\n",
       "      <td>65.85</td>\n",
       "      <td>7791290780170</td>\n",
       "      <td>6-1-9</td>\n",
       "    </tr>\n",
       "    <tr>\n",
       "      <th>246824</th>\n",
       "      <td>65.85</td>\n",
       "      <td>7791290780170</td>\n",
       "      <td>6-2-21</td>\n",
       "    </tr>\n",
       "    <tr>\n",
       "      <th>246882</th>\n",
       "      <td>NaN</td>\n",
       "      <td>NaN</td>\n",
       "      <td>NaN</td>\n",
       "    </tr>\n",
       "    <tr>\n",
       "      <th>246978</th>\n",
       "      <td>NaN</td>\n",
       "      <td>NaN</td>\n",
       "      <td>NaN</td>\n",
       "    </tr>\n",
       "    <tr>\n",
       "      <th>247033</th>\n",
       "      <td>NaN</td>\n",
       "      <td>NaN</td>\n",
       "      <td>NaN</td>\n",
       "    </tr>\n",
       "    <tr>\n",
       "      <th>247167</th>\n",
       "      <td>NaN</td>\n",
       "      <td>NaN</td>\n",
       "      <td>NaN</td>\n",
       "    </tr>\n",
       "    <tr>\n",
       "      <th>247310</th>\n",
       "      <td>NaN</td>\n",
       "      <td>NaN</td>\n",
       "      <td>NaN</td>\n",
       "    </tr>\n",
       "    <tr>\n",
       "      <th>247404</th>\n",
       "      <td>NaN</td>\n",
       "      <td>NaN</td>\n",
       "      <td>NaN</td>\n",
       "    </tr>\n",
       "    <tr>\n",
       "      <th>247405</th>\n",
       "      <td>NaN</td>\n",
       "      <td>NaN</td>\n",
       "      <td>NaN</td>\n",
       "    </tr>\n",
       "    <tr>\n",
       "      <th>247520</th>\n",
       "      <td>NaN</td>\n",
       "      <td>NaN</td>\n",
       "      <td>NaN</td>\n",
       "    </tr>\n",
       "    <tr>\n",
       "      <th>247660</th>\n",
       "      <td>NaN</td>\n",
       "      <td>NaN</td>\n",
       "      <td>NaN</td>\n",
       "    </tr>\n",
       "    <tr>\n",
       "      <th>459373</th>\n",
       "      <td>NaN</td>\n",
       "      <td>NaN</td>\n",
       "      <td>NaN</td>\n",
       "    </tr>\n",
       "    <tr>\n",
       "      <th>459407</th>\n",
       "      <td>1349.90</td>\n",
       "      <td>7898024397205</td>\n",
       "      <td>18-1-6</td>\n",
       "    </tr>\n",
       "    <tr>\n",
       "      <th>459462</th>\n",
       "      <td>1349.90</td>\n",
       "      <td>7898024397205</td>\n",
       "      <td>18-1-6</td>\n",
       "    </tr>\n",
       "    <tr>\n",
       "      <th>459514</th>\n",
       "      <td>289.99</td>\n",
       "      <td>0000000216616</td>\n",
       "      <td>9-1-686</td>\n",
       "    </tr>\n",
       "    <tr>\n",
       "      <th>459515</th>\n",
       "      <td>249.00</td>\n",
       "      <td>0000000221184</td>\n",
       "      <td>9-1-690</td>\n",
       "    </tr>\n",
       "    <tr>\n",
       "      <th>459516</th>\n",
       "      <td>259.00</td>\n",
       "      <td>0000000221184</td>\n",
       "      <td>9-2-583</td>\n",
       "    </tr>\n",
       "    <tr>\n",
       "      <th>459517</th>\n",
       "      <td>439.00</td>\n",
       "      <td>0000000221184</td>\n",
       "      <td>9-2-953</td>\n",
       "    </tr>\n",
       "    <tr>\n",
       "      <th>459518</th>\n",
       "      <td>729.00</td>\n",
       "      <td>0000000230407</td>\n",
       "      <td>9-1-868</td>\n",
       "    </tr>\n",
       "    <tr>\n",
       "      <th>459519</th>\n",
       "      <td>729.00</td>\n",
       "      <td>0000000230407</td>\n",
       "      <td>9-3-5222</td>\n",
       "    </tr>\n",
       "    <tr>\n",
       "      <th>459520</th>\n",
       "      <td>68.90</td>\n",
       "      <td>0000000231688</td>\n",
       "      <td>9-1-690</td>\n",
       "    </tr>\n",
       "    <tr>\n",
       "      <th>459521</th>\n",
       "      <td>69.90</td>\n",
       "      <td>0000000231688</td>\n",
       "      <td>9-2-583</td>\n",
       "    </tr>\n",
       "    <tr>\n",
       "      <th>459522</th>\n",
       "      <td>110.00</td>\n",
       "      <td>0000000231688</td>\n",
       "      <td>9-2-953</td>\n",
       "    </tr>\n",
       "    <tr>\n",
       "      <th>459523</th>\n",
       "      <td>859.00</td>\n",
       "      <td>0000000274357</td>\n",
       "      <td>9-1-868</td>\n",
       "    </tr>\n",
       "    <tr>\n",
       "      <th>459524</th>\n",
       "      <td>399.99</td>\n",
       "      <td>0000000279680</td>\n",
       "      <td>9-1-122</td>\n",
       "    </tr>\n",
       "    <tr>\n",
       "      <th>459525</th>\n",
       "      <td>204.99</td>\n",
       "      <td>0000000279703</td>\n",
       "      <td>9-1-122</td>\n",
       "    </tr>\n",
       "    <tr>\n",
       "      <th>459526</th>\n",
       "      <td>239.00</td>\n",
       "      <td>0000000279710</td>\n",
       "      <td>9-1-122</td>\n",
       "    </tr>\n",
       "    <tr>\n",
       "      <th>459568</th>\n",
       "      <td>NaN</td>\n",
       "      <td>NaN</td>\n",
       "      <td>NaN</td>\n",
       "    </tr>\n",
       "  </tbody>\n",
       "</table>\n",
       "</div>"
      ],
      "text/plain": [
       "         precio    producto_id sucursal_id\n",
       "27       289.99  0000000216616     9-1-686\n",
       "28       249.00  0000000221184     9-1-690\n",
       "29       259.00  0000000221184     9-2-583\n",
       "30       439.00  0000000221184     9-2-953\n",
       "31       729.00  0000000230407     9-1-868\n",
       "32       729.00  0000000230407    9-3-5222\n",
       "33        68.90  0000000231688     9-1-690\n",
       "34        69.90  0000000231688     9-2-583\n",
       "35       110.00  0000000231688     9-2-953\n",
       "36       859.00  0000000274357     9-1-868\n",
       "37       399.99  0000000279680     9-1-122\n",
       "38       204.99  0000000279703     9-1-122\n",
       "39       239.00  0000000279710     9-1-122\n",
       "246393      NaN            NaN         NaN\n",
       "246582    65.90  7791290780170      50-1-2\n",
       "246583    65.85  7791290780170       6-1-9\n",
       "246584    65.85  7791290780170      6-2-21\n",
       "246748      NaN            NaN         NaN\n",
       "246794    65.90  7791290780170      50-1-2\n",
       "246795    65.85  7791290780170       6-1-9\n",
       "246796    65.85  7791290780170      6-2-21\n",
       "246822    65.90  7791290780170      50-1-2\n",
       "246823    65.85  7791290780170       6-1-9\n",
       "246824    65.85  7791290780170      6-2-21\n",
       "246882      NaN            NaN         NaN\n",
       "246978      NaN            NaN         NaN\n",
       "247033      NaN            NaN         NaN\n",
       "247167      NaN            NaN         NaN\n",
       "247310      NaN            NaN         NaN\n",
       "247404      NaN            NaN         NaN\n",
       "247405      NaN            NaN         NaN\n",
       "247520      NaN            NaN         NaN\n",
       "247660      NaN            NaN         NaN\n",
       "459373      NaN            NaN         NaN\n",
       "459407  1349.90  7898024397205      18-1-6\n",
       "459462  1349.90  7898024397205      18-1-6\n",
       "459514   289.99  0000000216616     9-1-686\n",
       "459515   249.00  0000000221184     9-1-690\n",
       "459516   259.00  0000000221184     9-2-583\n",
       "459517   439.00  0000000221184     9-2-953\n",
       "459518   729.00  0000000230407     9-1-868\n",
       "459519   729.00  0000000230407    9-3-5222\n",
       "459520    68.90  0000000231688     9-1-690\n",
       "459521    69.90  0000000231688     9-2-583\n",
       "459522   110.00  0000000231688     9-2-953\n",
       "459523   859.00  0000000274357     9-1-868\n",
       "459524   399.99  0000000279680     9-1-122\n",
       "459525   204.99  0000000279703     9-1-122\n",
       "459526   239.00  0000000279710     9-1-122\n",
       "459568      NaN            NaN         NaN"
      ]
     },
     "execution_count": 240,
     "metadata": {},
     "output_type": "execute_result"
    }
   ],
   "source": [
    "#cuento la cantidad de datos duplicados y veo cuales son\n",
    "df_a.duplicated().sum()\n",
    "df_a[df_a.duplicated(keep=False)]"
   ]
  },
  {
   "cell_type": "code",
   "execution_count": 242,
   "metadata": {},
   "outputs": [],
   "source": [
    "#Elimino duplicados\n",
    "df_a2=df_a.drop_duplicates()"
   ]
  },
  {
   "cell_type": "code",
   "execution_count": 243,
   "metadata": {},
   "outputs": [
    {
     "data": {
      "text/plain": [
       "precio         1\n",
       "producto_id    3\n",
       "sucursal_id    3\n",
       "dtype: int64"
      ]
     },
     "execution_count": 243,
     "metadata": {},
     "output_type": "execute_result"
    }
   ],
   "source": [
    "#sumo datos nulos\n",
    "df_a2.isnull().sum()"
   ]
  },
  {
   "cell_type": "code",
   "execution_count": 244,
   "metadata": {},
   "outputs": [],
   "source": [
    "#elimino datos nulos ya que no representan una variacion importante \n",
    "df_a3=df_a2.dropna()"
   ]
  },
  {
   "cell_type": "code",
   "execution_count": 245,
   "metadata": {},
   "outputs": [
    {
     "name": "stderr",
     "output_type": "stream",
     "text": [
      "C:\\Users\\fotot\\AppData\\Local\\Temp\\ipykernel_12028\\3293983362.py:2: SettingWithCopyWarning: \n",
      "A value is trying to be set on a copy of a slice from a DataFrame.\n",
      "Try using .loc[row_indexer,col_indexer] = value instead\n",
      "\n",
      "See the caveats in the documentation: https://pandas.pydata.org/pandas-docs/stable/user_guide/indexing.html#returning-a-view-versus-a-copy\n",
      "  df_a3['producto_id']=df_a3['producto_id'].astype(str)\n"
     ]
    }
   ],
   "source": [
    "#Paso a String la columna producto_id para poder rellenar con ceros para completar codigo EAN\n",
    "df_a3['producto_id']=df_a3['producto_id'].astype(str)"
   ]
  },
  {
   "cell_type": "code",
   "execution_count": 246,
   "metadata": {},
   "outputs": [
    {
     "name": "stderr",
     "output_type": "stream",
     "text": [
      "C:\\Users\\fotot\\AppData\\Local\\Temp\\ipykernel_12028\\3379761986.py:2: SettingWithCopyWarning: \n",
      "A value is trying to be set on a copy of a slice from a DataFrame.\n",
      "Try using .loc[row_indexer,col_indexer] = value instead\n",
      "\n",
      "See the caveats in the documentation: https://pandas.pydata.org/pandas-docs/stable/user_guide/indexing.html#returning-a-view-versus-a-copy\n",
      "  df_a3['producto_id']=df_a3['producto_id'].str.zfill(13)\n"
     ]
    }
   ],
   "source": [
    "#El siguiente codigo agrega ceros segun corresponda para rellenar el numero a codigo EAN\n",
    "df_a3['producto_id']=df_a3['producto_id'].str.zfill(13)"
   ]
  },
  {
   "cell_type": "code",
   "execution_count": 247,
   "metadata": {},
   "outputs": [
    {
     "name": "stderr",
     "output_type": "stream",
     "text": [
      "C:\\Users\\fotot\\AppData\\Local\\Temp\\ipykernel_12028\\2869605916.py:2: SettingWithCopyWarning: \n",
      "A value is trying to be set on a copy of a slice from a DataFrame.\n",
      "Try using .loc[row_indexer,col_indexer] = value instead\n",
      "\n",
      "See the caveats in the documentation: https://pandas.pydata.org/pandas-docs/stable/user_guide/indexing.html#returning-a-view-versus-a-copy\n",
      "  df_a3[Fecha]=Fecha\n"
     ]
    }
   ],
   "source": [
    "Fecha='2020-04-13'\n",
    "df_a3[Fecha]=Fecha"
   ]
  },
  {
   "cell_type": "code",
   "execution_count": 248,
   "metadata": {},
   "outputs": [
    {
     "name": "stderr",
     "output_type": "stream",
     "text": [
      "C:\\Users\\fotot\\AppData\\Local\\Temp\\ipykernel_12028\\670489253.py:1: SettingWithCopyWarning: \n",
      "A value is trying to be set on a copy of a slice from a DataFrame.\n",
      "Try using .loc[row_indexer,col_indexer] = value instead\n",
      "\n",
      "See the caveats in the documentation: https://pandas.pydata.org/pandas-docs/stable/user_guide/indexing.html#returning-a-view-versus-a-copy\n",
      "  df_a3[Fecha]=pd.to_datetime(df_a3[Fecha])\n"
     ]
    }
   ],
   "source": [
    "df_a3[Fecha]=pd.to_datetime(df_a3[Fecha])"
   ]
  },
  {
   "cell_type": "code",
   "execution_count": 249,
   "metadata": {},
   "outputs": [],
   "source": [
    "#Nombro todas las columnas para que sean iguales con las otras tablas\n",
    "tabla1=df_a3.set_axis(['precio', 'producto_id', 'sucursal_id', 'Fecha'], axis=1)"
   ]
  },
  {
   "cell_type": "markdown",
   "metadata": {},
   "source": [
    "* Limpieza de segundo archivo df2 JSON"
   ]
  },
  {
   "cell_type": "code",
   "execution_count": 250,
   "metadata": {},
   "outputs": [
    {
     "data": {
      "text/plain": [
       "0"
      ]
     },
     "execution_count": 250,
     "metadata": {},
     "output_type": "execute_result"
    }
   ],
   "source": [
    "#cuento la cantidad de datos duplicados y veo cuales son\n",
    "df_b.duplicated().sum()"
   ]
  },
  {
   "cell_type": "code",
   "execution_count": 181,
   "metadata": {},
   "outputs": [
    {
     "data": {
      "text/plain": [
       "precio         0\n",
       "producto_id    0\n",
       "sucursal_id    0\n",
       "dtype: int64"
      ]
     },
     "execution_count": 181,
     "metadata": {},
     "output_type": "execute_result"
    }
   ],
   "source": [
    "#sumo datos nulos\n",
    "df_b.isnull().sum()"
   ]
  },
  {
   "cell_type": "code",
   "execution_count": 251,
   "metadata": {},
   "outputs": [],
   "source": [
    "#Paso a String la columna producto_id para poder rellenar con ceros para completar codigo EAN\n",
    "df_b['producto_id']=df_b['producto_id'].astype(str)\n",
    "#El siguiente codigo agrega ceros segun corresponda para rellenar el numero a codigo EAN\n",
    "df_b['producto_id']=df_b['producto_id'].str.zfill(13)"
   ]
  },
  {
   "cell_type": "code",
   "execution_count": 252,
   "metadata": {},
   "outputs": [],
   "source": [
    "#cambio tipo de dato string a float, para manipular los datos como numeros\n",
    "df_b['precio']=pd.to_numeric(df_b.precio)"
   ]
  },
  {
   "cell_type": "code",
   "execution_count": 253,
   "metadata": {},
   "outputs": [],
   "source": [
    "#agrego columna fecha\n",
    "F='2020-05-03'\n",
    "df_b[F]=F"
   ]
  },
  {
   "cell_type": "code",
   "execution_count": 254,
   "metadata": {},
   "outputs": [],
   "source": [
    "#agrego columna y convierto el dato en fecha\n",
    "df_b[F]=pd.to_datetime(df_b[F])"
   ]
  },
  {
   "cell_type": "code",
   "execution_count": 255,
   "metadata": {},
   "outputs": [],
   "source": [
    "#Nombro todas las columnas para que sean iguales con las otras tablas\n",
    "tabla4=df_b.set_axis(['precio', 'producto_id', 'sucursal_id', 'Fecha'], axis=1)"
   ]
  },
  {
   "cell_type": "markdown",
   "metadata": {},
   "source": [
    "*df_c EXCEL"
   ]
  },
  {
   "cell_type": "code",
   "execution_count": 256,
   "metadata": {},
   "outputs": [
    {
     "data": {
      "text/html": [
       "<div>\n",
       "<style scoped>\n",
       "    .dataframe tbody tr th:only-of-type {\n",
       "        vertical-align: middle;\n",
       "    }\n",
       "\n",
       "    .dataframe tbody tr th {\n",
       "        vertical-align: top;\n",
       "    }\n",
       "\n",
       "    .dataframe thead th {\n",
       "        text-align: right;\n",
       "    }\n",
       "</style>\n",
       "<table border=\"1\" class=\"dataframe\">\n",
       "  <thead>\n",
       "    <tr style=\"text-align: right;\">\n",
       "      <th></th>\n",
       "      <th>precio</th>\n",
       "      <th>sucursal_id</th>\n",
       "      <th>producto_id</th>\n",
       "    </tr>\n",
       "  </thead>\n",
       "  <tbody>\n",
       "    <tr>\n",
       "      <th>0</th>\n",
       "      <td>399.0</td>\n",
       "      <td>2-1-092</td>\n",
       "      <td>2288.0</td>\n",
       "    </tr>\n",
       "    <tr>\n",
       "      <th>1</th>\n",
       "      <td>299.0</td>\n",
       "      <td>2-1-206</td>\n",
       "      <td>2288.0</td>\n",
       "    </tr>\n",
       "    <tr>\n",
       "      <th>2</th>\n",
       "      <td>399.0</td>\n",
       "      <td>2-2-241</td>\n",
       "      <td>2288.0</td>\n",
       "    </tr>\n",
       "    <tr>\n",
       "      <th>3</th>\n",
       "      <td>49999.0</td>\n",
       "      <td>9-1-430</td>\n",
       "      <td>205870.0</td>\n",
       "    </tr>\n",
       "    <tr>\n",
       "      <th>4</th>\n",
       "      <td>53999.0</td>\n",
       "      <td>9-2-4</td>\n",
       "      <td>205870.0</td>\n",
       "    </tr>\n",
       "  </tbody>\n",
       "</table>\n",
       "</div>"
      ],
      "text/plain": [
       "    precio sucursal_id producto_id\n",
       "0    399.0     2-1-092      2288.0\n",
       "1    299.0     2-1-206      2288.0\n",
       "2    399.0     2-2-241      2288.0\n",
       "3  49999.0     9-1-430    205870.0\n",
       "4  53999.0       9-2-4    205870.0"
      ]
     },
     "execution_count": 256,
     "metadata": {},
     "output_type": "execute_result"
    }
   ],
   "source": [
    "ArchivExc.head()"
   ]
  },
  {
   "cell_type": "code",
   "execution_count": 257,
   "metadata": {},
   "outputs": [],
   "source": [
    "#Saco el punto 0 al final de los valores de la columna producto_id\n",
    "ArchivExc.producto_id = ArchivExc.producto_id.astype(str).apply(lambda x: x.strip('.0'))"
   ]
  },
  {
   "cell_type": "code",
   "execution_count": 258,
   "metadata": {},
   "outputs": [],
   "source": [
    "ArchivExc['producto_id']=ArchivExc['producto_id'].astype(str)"
   ]
  },
  {
   "cell_type": "code",
   "execution_count": 259,
   "metadata": {},
   "outputs": [],
   "source": [
    "#El siguiente codigo agrega ceros segun corresponda para rellenar el numero a codigo EAN\n",
    "ArchivExc['producto_id']=ArchivExc['producto_id'].str.zfill(13)"
   ]
  },
  {
   "cell_type": "code",
   "execution_count": 260,
   "metadata": {},
   "outputs": [],
   "source": [
    "#Cambio orden de las columnas\n",
    "ArchivExc = ArchivExc.reindex(columns=['precio','producto_id','sucursal_id'])"
   ]
  },
  {
   "cell_type": "code",
   "execution_count": 261,
   "metadata": {},
   "outputs": [],
   "source": [
    "#Saco formato hora de las sucursales y lo paso a string\n",
    "ArchivExc.sucursal_id = ArchivExc.sucursal_id.astype(str).apply(lambda x: x.strip('00:00:00'))"
   ]
  },
  {
   "cell_type": "code",
   "execution_count": 262,
   "metadata": {},
   "outputs": [],
   "source": [
    "#Ordenamos los Id que estaban al reves en la columna Sucursal_Id\n",
    "def OrdenId (n):\n",
    "    if ' ' in n:\n",
    "        n = n.split(' ')[0]\n",
    "        a = n.split('-')[0]\n",
    "        b = n.split('-')[1]\n",
    "        c = n.split('-')[2]\n",
    "        n = c + '-' + b + '-' + a\n",
    "    return n\n",
    "\n",
    "ArchivExc['sucursal_id']=ArchivExc['sucursal_id'].apply(OrdenId)"
   ]
  },
  {
   "cell_type": "code",
   "execution_count": 263,
   "metadata": {},
   "outputs": [],
   "source": [
    "#Agrego columna con fecha\n",
    "Date1='2020-04-19'\n",
    "ArchivExc[Date1]=Date1"
   ]
  },
  {
   "cell_type": "code",
   "execution_count": 264,
   "metadata": {},
   "outputs": [],
   "source": [
    "#Paso columna fecha a dato tipo tiempo\n",
    "ArchivExc[Date1]=pd.to_datetime(ArchivExc[Date1])"
   ]
  },
  {
   "cell_type": "code",
   "execution_count": 265,
   "metadata": {},
   "outputs": [],
   "source": [
    "#Nombro todas las columnas para que sean iguales con las otras tablas\n",
    "tabla3=ArchivExc.set_axis(['precio', 'producto_id', 'sucursal_id', 'Fecha'], axis=1)"
   ]
  },
  {
   "cell_type": "markdown",
   "metadata": {},
   "source": [
    "* df_f TXT"
   ]
  },
  {
   "cell_type": "code",
   "execution_count": 277,
   "metadata": {},
   "outputs": [
    {
     "data": {
      "text/html": [
       "<div>\n",
       "<style scoped>\n",
       "    .dataframe tbody tr th:only-of-type {\n",
       "        vertical-align: middle;\n",
       "    }\n",
       "\n",
       "    .dataframe tbody tr th {\n",
       "        vertical-align: top;\n",
       "    }\n",
       "\n",
       "    .dataframe thead th {\n",
       "        text-align: right;\n",
       "    }\n",
       "</style>\n",
       "<table border=\"1\" class=\"dataframe\">\n",
       "  <thead>\n",
       "    <tr style=\"text-align: right;\">\n",
       "      <th></th>\n",
       "      <th>precio</th>\n",
       "      <th>producto_id</th>\n",
       "      <th>sucursal_id</th>\n",
       "    </tr>\n",
       "  </thead>\n",
       "  <tbody>\n",
       "    <tr>\n",
       "      <th>415288</th>\n",
       "      <td>149.99</td>\n",
       "      <td>9569753142128</td>\n",
       "      <td>25-1-1</td>\n",
       "    </tr>\n",
       "    <tr>\n",
       "      <th>415289</th>\n",
       "      <td>34.99</td>\n",
       "      <td>9795403001143</td>\n",
       "      <td>25-1-1</td>\n",
       "    </tr>\n",
       "    <tr>\n",
       "      <th>415290</th>\n",
       "      <td>312.50</td>\n",
       "      <td>9990385651922</td>\n",
       "      <td>5-1-4</td>\n",
       "    </tr>\n",
       "    <tr>\n",
       "      <th>415291</th>\n",
       "      <td>312.50</td>\n",
       "      <td>9990385651939</td>\n",
       "      <td>5-1-4</td>\n",
       "    </tr>\n",
       "    <tr>\n",
       "      <th>415292</th>\n",
       "      <td>198.90</td>\n",
       "      <td>9990385651946</td>\n",
       "      <td>5-1-4</td>\n",
       "    </tr>\n",
       "  </tbody>\n",
       "</table>\n",
       "</div>"
      ],
      "text/plain": [
       "        precio    producto_id sucursal_id\n",
       "415288  149.99  9569753142128      25-1-1\n",
       "415289   34.99  9795403001143      25-1-1\n",
       "415290  312.50  9990385651922       5-1-4\n",
       "415291  312.50  9990385651939       5-1-4\n",
       "415292  198.90  9990385651946       5-1-4"
      ]
     },
     "execution_count": 277,
     "metadata": {},
     "output_type": "execute_result"
    }
   ],
   "source": [
    "df_f.tail(5)"
   ]
  },
  {
   "cell_type": "code",
   "execution_count": 278,
   "metadata": {},
   "outputs": [],
   "source": [
    "#Codigo EAN\n",
    "df_f['producto_id']=df_f['producto_id'].astype(str)\n",
    "df_f['producto_id']=df_f['producto_id'].str.zfill(13)"
   ]
  },
  {
   "cell_type": "code",
   "execution_count": 279,
   "metadata": {},
   "outputs": [
    {
     "data": {
      "text/plain": [
       "precio         1960\n",
       "producto_id       0\n",
       "sucursal_id       6\n",
       "dtype: int64"
      ]
     },
     "execution_count": 279,
     "metadata": {},
     "output_type": "execute_result"
    }
   ],
   "source": [
    "#contamos datos Nulos\n",
    "df_f.isnull().sum()"
   ]
  },
  {
   "cell_type": "code",
   "execution_count": 280,
   "metadata": {},
   "outputs": [],
   "source": [
    "#como los datos nulos estan solo en precio y son muchos, pondremos un promedio para reemplazarlos\n",
    "promedio=round(df_f['precio'].mean(),2)\n",
    "df_f['precio'].fillna(promedio,inplace=True)"
   ]
  },
  {
   "cell_type": "code",
   "execution_count": 281,
   "metadata": {},
   "outputs": [],
   "source": [
    "#Los datos nulos de Sucursal_id los borraremos, ya que no tiene sentido mantenerlos si no sabemos a que sucursal corresonden los datos.\n",
    "df_f2=df_f.dropna()"
   ]
  },
  {
   "cell_type": "code",
   "execution_count": 282,
   "metadata": {},
   "outputs": [
    {
     "data": {
      "text/plain": [
       "precio         0\n",
       "producto_id    0\n",
       "sucursal_id    0\n",
       "dtype: int64"
      ]
     },
     "execution_count": 282,
     "metadata": {},
     "output_type": "execute_result"
    }
   ],
   "source": [
    "df_f2.isnull().sum()"
   ]
  },
  {
   "cell_type": "code",
   "execution_count": 283,
   "metadata": {},
   "outputs": [
    {
     "data": {
      "text/plain": [
       "186"
      ]
     },
     "execution_count": 283,
     "metadata": {},
     "output_type": "execute_result"
    }
   ],
   "source": [
    "#Duplicados\n",
    "df_f2.duplicated().sum()"
   ]
  },
  {
   "cell_type": "code",
   "execution_count": 284,
   "metadata": {},
   "outputs": [],
   "source": [
    "#Borramos los duplicados ya que repiten infomacion \n",
    "df_f3=df_f2.drop_duplicates()"
   ]
  },
  {
   "cell_type": "code",
   "execution_count": 285,
   "metadata": {},
   "outputs": [
    {
     "name": "stderr",
     "output_type": "stream",
     "text": [
      "C:\\Users\\fotot\\AppData\\Local\\Temp\\ipykernel_12028\\4247168891.py:3: SettingWithCopyWarning: \n",
      "A value is trying to be set on a copy of a slice from a DataFrame.\n",
      "Try using .loc[row_indexer,col_indexer] = value instead\n",
      "\n",
      "See the caveats in the documentation: https://pandas.pydata.org/pandas-docs/stable/user_guide/indexing.html#returning-a-view-versus-a-copy\n",
      "  df_f3[fecha2]=fecha2\n"
     ]
    }
   ],
   "source": [
    "#Crear columna para fecha\n",
    "fecha2='2020-05-18'\n",
    "df_f3[fecha2]=fecha2"
   ]
  },
  {
   "cell_type": "code",
   "execution_count": 286,
   "metadata": {},
   "outputs": [
    {
     "name": "stderr",
     "output_type": "stream",
     "text": [
      "C:\\Users\\fotot\\AppData\\Local\\Temp\\ipykernel_12028\\4011926674.py:2: SettingWithCopyWarning: \n",
      "A value is trying to be set on a copy of a slice from a DataFrame.\n",
      "Try using .loc[row_indexer,col_indexer] = value instead\n",
      "\n",
      "See the caveats in the documentation: https://pandas.pydata.org/pandas-docs/stable/user_guide/indexing.html#returning-a-view-versus-a-copy\n",
      "  df_f3[fecha2]=pd.to_datetime(df_f3[fecha2])\n"
     ]
    }
   ],
   "source": [
    "#convertir columna fecha en dato tipo fecha\n",
    "df_f3[fecha2]=pd.to_datetime(df_f3[fecha2])"
   ]
  },
  {
   "cell_type": "code",
   "execution_count": 287,
   "metadata": {},
   "outputs": [],
   "source": [
    "#Nombro todas las columnas para que sean iguales con las otras tablas\n",
    "tabla2=df_f3.set_axis(['precio', 'producto_id', 'sucursal_id', 'Fecha'], axis=1)"
   ]
  },
  {
   "cell_type": "markdown",
   "metadata": {},
   "source": [
    "## Unión de todas las tablas precio"
   ]
  },
  {
   "cell_type": "code",
   "execution_count": 288,
   "metadata": {},
   "outputs": [],
   "source": [
    "#Unir todas las tablas precio\n",
    "Precios=pd.concat([tabla1,tabla2,tabla3,tabla4],axis=0)"
   ]
  },
  {
   "cell_type": "code",
   "execution_count": 289,
   "metadata": {},
   "outputs": [
    {
     "data": {
      "text/plain": [
       "precio         5667\n",
       "producto_id       0\n",
       "sucursal_id       0\n",
       "Fecha             0\n",
       "dtype: int64"
      ]
     },
     "execution_count": 289,
     "metadata": {},
     "output_type": "execute_result"
    }
   ],
   "source": [
    "#Verifico Nulos\n",
    "Precios.isnull().sum()"
   ]
  },
  {
   "cell_type": "code",
   "execution_count": 290,
   "metadata": {},
   "outputs": [],
   "source": [
    "#Remplazar valores nulos\n",
    "Precios['precio'].fillna(0,inplace=True)"
   ]
  },
  {
   "cell_type": "code",
   "execution_count": 291,
   "metadata": {},
   "outputs": [
    {
     "data": {
      "text/plain": [
       "precio         0\n",
       "producto_id    0\n",
       "sucursal_id    0\n",
       "Fecha          0\n",
       "dtype: int64"
      ]
     },
     "execution_count": 291,
     "metadata": {},
     "output_type": "execute_result"
    }
   ],
   "source": [
    "Precios.isnull().sum()"
   ]
  },
  {
   "cell_type": "code",
   "execution_count": 292,
   "metadata": {},
   "outputs": [],
   "source": [
    "#Saco las ',' que habia al principio en algunos numeros\n",
    "Precios.precio = Precios.precio.astype(str).apply(lambda x: x.strip(','))"
   ]
  },
  {
   "cell_type": "code",
   "execution_count": 293,
   "metadata": {},
   "outputs": [],
   "source": [
    "Precios['precio']=pd.to_numeric(Precios.precio)"
   ]
  },
  {
   "cell_type": "code",
   "execution_count": 294,
   "metadata": {},
   "outputs": [],
   "source": [
    "#Borro registros duplicados\n",
    "Precio=Precios.drop_duplicates()"
   ]
  },
  {
   "cell_type": "code",
   "execution_count": 295,
   "metadata": {},
   "outputs": [
    {
     "data": {
      "text/plain": [
       "0"
      ]
     },
     "execution_count": 295,
     "metadata": {},
     "output_type": "execute_result"
    }
   ],
   "source": [
    "Precio.duplicated().sum()"
   ]
  },
  {
   "cell_type": "code",
   "execution_count": 296,
   "metadata": {},
   "outputs": [],
   "source": [
    "Precios.to_csv(r'C:\\ProgramData\\MySQL\\MySQL Server 8.0\\Uploads\\Precios.csv', index=False)"
   ]
  },
  {
   "cell_type": "markdown",
   "metadata": {},
   "source": [
    "## Producto"
   ]
  },
  {
   "cell_type": "markdown",
   "metadata": {},
   "source": [
    "* Limpieza df4 PARQUET"
   ]
  },
  {
   "cell_type": "code",
   "execution_count": 297,
   "metadata": {},
   "outputs": [
    {
     "data": {
      "text/html": [
       "<div>\n",
       "<style scoped>\n",
       "    .dataframe tbody tr th:only-of-type {\n",
       "        vertical-align: middle;\n",
       "    }\n",
       "\n",
       "    .dataframe tbody tr th {\n",
       "        vertical-align: top;\n",
       "    }\n",
       "\n",
       "    .dataframe thead th {\n",
       "        text-align: right;\n",
       "    }\n",
       "</style>\n",
       "<table border=\"1\" class=\"dataframe\">\n",
       "  <thead>\n",
       "    <tr style=\"text-align: right;\">\n",
       "      <th></th>\n",
       "      <th>id</th>\n",
       "      <th>marca</th>\n",
       "      <th>nombre</th>\n",
       "      <th>presentacion</th>\n",
       "      <th>categoria1</th>\n",
       "      <th>categoria2</th>\n",
       "      <th>categoria3</th>\n",
       "    </tr>\n",
       "  </thead>\n",
       "  <tbody>\n",
       "    <tr>\n",
       "      <th>0</th>\n",
       "      <td>0000000001663</td>\n",
       "      <td>LA ANÓNIMA</td>\n",
       "      <td>Radicheta Atada La Anonima 1 Un</td>\n",
       "      <td>1.0 un</td>\n",
       "      <td>None</td>\n",
       "      <td>None</td>\n",
       "      <td>None</td>\n",
       "    </tr>\n",
       "    <tr>\n",
       "      <th>1</th>\n",
       "      <td>0000000002288</td>\n",
       "      <td>LA ANÓNIMA</td>\n",
       "      <td>Perejil Atado La Anonima 1 Un</td>\n",
       "      <td>1.0 un</td>\n",
       "      <td>None</td>\n",
       "      <td>None</td>\n",
       "      <td>None</td>\n",
       "    </tr>\n",
       "    <tr>\n",
       "      <th>2</th>\n",
       "      <td>0000000205870</td>\n",
       "      <td>SIN MARCA</td>\n",
       "      <td>Ojo de Bife 1 Kg</td>\n",
       "      <td>1.0 kg</td>\n",
       "      <td>None</td>\n",
       "      <td>None</td>\n",
       "      <td>None</td>\n",
       "    </tr>\n",
       "    <tr>\n",
       "      <th>3</th>\n",
       "      <td>0000000205894</td>\n",
       "      <td>SIN MARCA</td>\n",
       "      <td>Milanesa de Peceto Novillito 1 Kg</td>\n",
       "      <td>1.0 kg</td>\n",
       "      <td>None</td>\n",
       "      <td>None</td>\n",
       "      <td>None</td>\n",
       "    </tr>\n",
       "    <tr>\n",
       "      <th>4</th>\n",
       "      <td>0000000205955</td>\n",
       "      <td>SIN MARCA</td>\n",
       "      <td>Chiquizuela Novillito 1 Kg</td>\n",
       "      <td>1.0 kg</td>\n",
       "      <td>None</td>\n",
       "      <td>None</td>\n",
       "      <td>None</td>\n",
       "    </tr>\n",
       "  </tbody>\n",
       "</table>\n",
       "</div>"
      ],
      "text/plain": [
       "              id       marca                             nombre presentacion  \\\n",
       "0  0000000001663  LA ANÓNIMA    Radicheta Atada La Anonima 1 Un       1.0 un   \n",
       "1  0000000002288  LA ANÓNIMA      Perejil Atado La Anonima 1 Un       1.0 un   \n",
       "2  0000000205870   SIN MARCA                   Ojo de Bife 1 Kg       1.0 kg   \n",
       "3  0000000205894   SIN MARCA  Milanesa de Peceto Novillito 1 Kg       1.0 kg   \n",
       "4  0000000205955   SIN MARCA         Chiquizuela Novillito 1 Kg       1.0 kg   \n",
       "\n",
       "  categoria1 categoria2 categoria3  \n",
       "0       None       None       None  \n",
       "1       None       None       None  \n",
       "2       None       None       None  \n",
       "3       None       None       None  \n",
       "4       None       None       None  "
      ]
     },
     "execution_count": 297,
     "metadata": {},
     "output_type": "execute_result"
    }
   ],
   "source": [
    "df_d.head()"
   ]
  },
  {
   "cell_type": "code",
   "execution_count": 298,
   "metadata": {},
   "outputs": [],
   "source": [
    "#Le quito la terminacion a nombre, que es la presentacion en la que viene el producto\n",
    "df_d.nombre = df_d.nombre.astype(str).apply(lambda x: x.strip('0123456789UnKgGr'))"
   ]
  },
  {
   "cell_type": "code",
   "execution_count": 299,
   "metadata": {},
   "outputs": [
    {
     "data": {
      "text/plain": [
       "0"
      ]
     },
     "execution_count": 299,
     "metadata": {},
     "output_type": "execute_result"
    }
   ],
   "source": [
    "#verifico si tiene duplicados\n",
    "df_d.duplicated().sum()"
   ]
  },
  {
   "cell_type": "code",
   "execution_count": 300,
   "metadata": {},
   "outputs": [],
   "source": [
    "#Manejo de datos Nulos\n",
    "df_d.isnull().sum()\n",
    "df_d['categoria1'].fillna('Sin categoria',inplace=True)\n",
    "df_d['categoria2'].fillna('Sin categoria',inplace=True)\n",
    "df_d['categoria3'].fillna('Sin categoria',inplace=True)"
   ]
  },
  {
   "cell_type": "code",
   "execution_count": 301,
   "metadata": {},
   "outputs": [],
   "source": [
    "df_d['id']=df_d['id'].astype(str)"
   ]
  },
  {
   "cell_type": "code",
   "execution_count": 302,
   "metadata": {},
   "outputs": [],
   "source": [
    "df_d['id']=df_d['id'].str.zfill(13)"
   ]
  },
  {
   "cell_type": "code",
   "execution_count": 303,
   "metadata": {},
   "outputs": [
    {
     "data": {
      "text/plain": [
       "id              object\n",
       "marca           object\n",
       "nombre          object\n",
       "presentacion    object\n",
       "categoria1      object\n",
       "categoria2      object\n",
       "categoria3      object\n",
       "dtype: object"
      ]
     },
     "execution_count": 303,
     "metadata": {},
     "output_type": "execute_result"
    }
   ],
   "source": [
    "df_d.dtypes"
   ]
  },
  {
   "cell_type": "code",
   "execution_count": 304,
   "metadata": {},
   "outputs": [],
   "source": [
    "df_d.to_csv(r'C:\\ProgramData\\MySQL\\MySQL Server 8.0\\Uploads\\Productos.csv', index=False)"
   ]
  },
  {
   "cell_type": "markdown",
   "metadata": {},
   "source": [
    "## Sucursal"
   ]
  },
  {
   "cell_type": "markdown",
   "metadata": {},
   "source": [
    "* df_e CSV"
   ]
  },
  {
   "cell_type": "code",
   "execution_count": 305,
   "metadata": {},
   "outputs": [
    {
     "data": {
      "text/plain": [
       "0"
      ]
     },
     "execution_count": 305,
     "metadata": {},
     "output_type": "execute_result"
    }
   ],
   "source": [
    "#Verificar si hay datos nulos o duplicados\n",
    "df_e.isnull().sum()\n",
    "df_e.duplicated().sum()"
   ]
  },
  {
   "cell_type": "code",
   "execution_count": 518,
   "metadata": {},
   "outputs": [
    {
     "data": {
      "text/html": [
       "<div>\n",
       "<style scoped>\n",
       "    .dataframe tbody tr th:only-of-type {\n",
       "        vertical-align: middle;\n",
       "    }\n",
       "\n",
       "    .dataframe tbody tr th {\n",
       "        vertical-align: top;\n",
       "    }\n",
       "\n",
       "    .dataframe thead th {\n",
       "        text-align: right;\n",
       "    }\n",
       "</style>\n",
       "<table border=\"1\" class=\"dataframe\">\n",
       "  <thead>\n",
       "    <tr style=\"text-align: right;\">\n",
       "      <th></th>\n",
       "      <th>id</th>\n",
       "      <th>comercioId</th>\n",
       "      <th>banderaId</th>\n",
       "      <th>banderaDescripcion</th>\n",
       "      <th>comercioRazonSocial</th>\n",
       "      <th>provincia</th>\n",
       "      <th>localidad</th>\n",
       "      <th>direccion</th>\n",
       "      <th>lat</th>\n",
       "      <th>lng</th>\n",
       "      <th>sucursalNombre</th>\n",
       "      <th>sucursalTipo</th>\n",
       "    </tr>\n",
       "  </thead>\n",
       "  <tbody>\n",
       "    <tr>\n",
       "      <th>0</th>\n",
       "      <td>1-1-7</td>\n",
       "      <td>1</td>\n",
       "      <td>1</td>\n",
       "      <td>Super MAMI</td>\n",
       "      <td>Dinosaurio S.A.</td>\n",
       "      <td>AR-X</td>\n",
       "      <td>SALSIPUEDES</td>\n",
       "      <td>E53 1011 None</td>\n",
       "      <td>-31.126667</td>\n",
       "      <td>-64.295250</td>\n",
       "      <td>Super Mami 4</td>\n",
       "      <td>Hipermercado</td>\n",
       "    </tr>\n",
       "    <tr>\n",
       "      <th>1</th>\n",
       "      <td>10-1-1</td>\n",
       "      <td>10</td>\n",
       "      <td>1</td>\n",
       "      <td>Hipermercado Carrefour</td>\n",
       "      <td>INC S.A.</td>\n",
       "      <td>AR-B</td>\n",
       "      <td>San Isidro</td>\n",
       "      <td>Bernardo De Irigoyen 2647</td>\n",
       "      <td>-34.491345</td>\n",
       "      <td>-58.589025</td>\n",
       "      <td>San Isidro</td>\n",
       "      <td>Hipermercado</td>\n",
       "    </tr>\n",
       "    <tr>\n",
       "      <th>2</th>\n",
       "      <td>10-1-10</td>\n",
       "      <td>10</td>\n",
       "      <td>1</td>\n",
       "      <td>Hipermercado Carrefour</td>\n",
       "      <td>INC S.A.</td>\n",
       "      <td>AR-B</td>\n",
       "      <td>Hurlingham</td>\n",
       "      <td>Av. Vergara 1910</td>\n",
       "      <td>-34.620610</td>\n",
       "      <td>-58.633769</td>\n",
       "      <td>Villa Tesei</td>\n",
       "      <td>Hipermercado</td>\n",
       "    </tr>\n",
       "    <tr>\n",
       "      <th>3</th>\n",
       "      <td>10-1-11</td>\n",
       "      <td>10</td>\n",
       "      <td>1</td>\n",
       "      <td>Hipermercado Carrefour</td>\n",
       "      <td>INC S.A.</td>\n",
       "      <td>AR-B</td>\n",
       "      <td>Malvinas Argentinas</td>\n",
       "      <td>Av. Arturo Illia 3770</td>\n",
       "      <td>-34.528883</td>\n",
       "      <td>-58.701631</td>\n",
       "      <td>Malvinas Argentinas</td>\n",
       "      <td>Hipermercado</td>\n",
       "    </tr>\n",
       "    <tr>\n",
       "      <th>4</th>\n",
       "      <td>10-1-112</td>\n",
       "      <td>10</td>\n",
       "      <td>1</td>\n",
       "      <td>Hipermercado Carrefour</td>\n",
       "      <td>INC S.A.</td>\n",
       "      <td>AR-A</td>\n",
       "      <td>Salta</td>\n",
       "      <td>20 De Febrero 37</td>\n",
       "      <td>-24.789072</td>\n",
       "      <td>-65.413699</td>\n",
       "      <td>Salta</td>\n",
       "      <td>Hipermercado</td>\n",
       "    </tr>\n",
       "  </tbody>\n",
       "</table>\n",
       "</div>"
      ],
      "text/plain": [
       "         id  comercioId  banderaId      banderaDescripcion  \\\n",
       "0     1-1-7           1          1              Super MAMI   \n",
       "1    10-1-1          10          1  Hipermercado Carrefour   \n",
       "2   10-1-10          10          1  Hipermercado Carrefour   \n",
       "3   10-1-11          10          1  Hipermercado Carrefour   \n",
       "4  10-1-112          10          1  Hipermercado Carrefour   \n",
       "\n",
       "  comercioRazonSocial provincia            localidad  \\\n",
       "0     Dinosaurio S.A.      AR-X          SALSIPUEDES   \n",
       "1            INC S.A.      AR-B           San Isidro   \n",
       "2            INC S.A.      AR-B           Hurlingham   \n",
       "3            INC S.A.      AR-B  Malvinas Argentinas   \n",
       "4            INC S.A.      AR-A                Salta   \n",
       "\n",
       "                   direccion        lat        lng       sucursalNombre  \\\n",
       "0              E53 1011 None -31.126667 -64.295250         Super Mami 4   \n",
       "1  Bernardo De Irigoyen 2647 -34.491345 -58.589025           San Isidro   \n",
       "2           Av. Vergara 1910 -34.620610 -58.633769          Villa Tesei   \n",
       "3      Av. Arturo Illia 3770 -34.528883 -58.701631  Malvinas Argentinas   \n",
       "4           20 De Febrero 37 -24.789072 -65.413699                Salta   \n",
       "\n",
       "   sucursalTipo  \n",
       "0  Hipermercado  \n",
       "1  Hipermercado  \n",
       "2  Hipermercado  \n",
       "3  Hipermercado  \n",
       "4  Hipermercado  "
      ]
     },
     "execution_count": 518,
     "metadata": {},
     "output_type": "execute_result"
    }
   ],
   "source": [
    "df_e.head()"
   ]
  },
  {
   "cell_type": "code",
   "execution_count": 519,
   "metadata": {},
   "outputs": [
    {
     "data": {
      "text/plain": [
       "id                      object\n",
       "comercioId               int64\n",
       "banderaId                int64\n",
       "banderaDescripcion      object\n",
       "comercioRazonSocial     object\n",
       "provincia               object\n",
       "localidad               object\n",
       "direccion               object\n",
       "lat                    float64\n",
       "lng                    float64\n",
       "sucursalNombre          object\n",
       "sucursalTipo            object\n",
       "dtype: object"
      ]
     },
     "execution_count": 519,
     "metadata": {},
     "output_type": "execute_result"
    }
   ],
   "source": [
    "df_e.dtypes"
   ]
  },
  {
   "cell_type": "code",
   "execution_count": 520,
   "metadata": {},
   "outputs": [],
   "source": [
    "df_e.to_csv(r'C:\\ProgramData\\MySQL\\MySQL Server 8.0\\Uploads\\Sucursales.csv', index=False)"
   ]
  },
  {
   "cell_type": "code",
   "execution_count": 81,
   "metadata": {},
   "outputs": [],
   "source": [
    "Sucursal=pd.read_csv(r'C:\\ProgramData\\MySQL\\MySQL Server 8.0\\Uploads\\Sucursales.csv')"
   ]
  }
 ],
 "metadata": {
  "kernelspec": {
   "display_name": "Python 3.10.8 64-bit",
   "language": "python",
   "name": "python3"
  },
  "language_info": {
   "codemirror_mode": {
    "name": "ipython",
    "version": 3
   },
   "file_extension": ".py",
   "mimetype": "text/x-python",
   "name": "python",
   "nbconvert_exporter": "python",
   "pygments_lexer": "ipython3",
   "version": "3.10.8"
  },
  "orig_nbformat": 4,
  "vscode": {
   "interpreter": {
    "hash": "7ac3ee0c1e143d7461bd9b7543dcba5485f1f3c4c79415bc3c404941c1cee4e8"
   }
  }
 },
 "nbformat": 4,
 "nbformat_minor": 2
}
